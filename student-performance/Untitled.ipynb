{
 "cells": [
  {
   "cell_type": "code",
   "execution_count": 1,
   "metadata": {
    "collapsed": true
   },
   "outputs": [],
   "source": [
    "import pandas as pd\n",
    "import numpy as np\n",
    "import matplotlib.pyplot as plt\n",
    "\n",
    "def split_objective(input_df, dims):\n",
    "    features = input_df.loc[:, input_df.columns != list(dims.keys())[-1]]\n",
    "    objective = input_df[input_df.columns[-1:]]\n",
    "    return (features, objective)"
   ]
  },
  {
   "cell_type": "code",
   "execution_count": 2,
   "metadata": {},
   "outputs": [
    {
     "name": "stdout",
     "output_type": "stream",
     "text": [
      "(18418, 11)\n"
     ]
    }
   ],
   "source": [
    "dimensiones = {\n",
    "    'P31_El_Recreo': 'int',\n",
    "    'P31_La_Refaccion_Escolar': 'int',\n",
    "    'P31_Platicar_Con_Mis_Amigos': 'int',\n",
    "    'P31_Aprender_Algo_Nuevo': 'int',\n",
    "    'P31_Platicar_Con_Mis_Maestros': 'int',\n",
    "    'P31_Me_Gustan_Las_Clases': 'int',\n",
    "    'P31_Actividades_Deportes': 'int',\n",
    "    'P31_Clases_Musica': 'int',\n",
    "    'P31_Clases_Arte': 'int',\n",
    "    'P31_Clases_Computación': 'int',\n",
    "    'LOGRO_MATE': 'int'\n",
    "}\n",
    "df = pd.read_csv(\n",
    "        '6to.csv',\n",
    "        encoding = \"ISO-8859-1\",\n",
    "        usecols=list(dimensiones.keys()),\n",
    "        dtype=dimensiones)\n",
    "print(df.shape)"
   ]
  },
  {
   "cell_type": "code",
   "execution_count": 23,
   "metadata": {},
   "outputs": [
    {
     "name": "stdout",
     "output_type": "stream",
     "text": [
      "(8403, 11)\n",
      "8403\n"
     ]
    }
   ],
   "source": [
    "df_pass = df[df['LOGRO_MATE'] == 1]\n",
    "print(df_pass.shape)\n",
    "print(len(df_pass))"
   ]
  },
  {
   "cell_type": "code",
   "execution_count": 26,
   "metadata": {},
   "outputs": [
    {
     "name": "stdout",
     "output_type": "stream",
     "text": [
      "   LOGRO_MATE  P31_Clases_Computación  total\n",
      "0           0                       0   7560\n",
      "1           0                       1   2455\n",
      "2           1                       0   6017\n",
      "3           1                       1   2386\n"
     ]
    }
   ],
   "source": [
    "grupos = df.groupby(by=('LOGRO_MATE', 'P31_Clases_Computación'))\n",
    "convertido = pd.DataFrame({'total': grupos.size()}).reset_index()\n",
    "print(convertido)"
   ]
  },
  {
   "cell_type": "code",
   "execution_count": 21,
   "metadata": {},
   "outputs": [
    {
     "data": {
      "image/png": "[encoded data removed]",
      "text/plain": [
       "<matplotlib.figure.Figure at 0x16216615b38>"
      ]
     },
     "metadata": {},
     "output_type": "display_data"
    }
   ],
   "source": [
    "correlations = df.corr()\n",
    "fig = plt.figure(figsize=(10, 10))\n",
    "ax = fig.add_subplot(111)\n",
    "cax = ax.matshow(correlations, vmin=0, vmax=1)\n",
    "fig.colorbar(cax)\n",
    "ax.set_xticks(range(len(dimensiones.keys())), dimensiones.keys())\n",
    "#ax.set_xticks(range(len(dimensiones.keys())), dimensiones.keys())\n",
    "ax.set_xticklabels(dimensiones.keys(), rotation=90)\n",
    "# ax.set_yticklabels(rf_dimensiones.keys())\n",
    "plt.show()"
   ]
  }
 ],
 "metadata": {
  "kernelspec": {
   "display_name": "Python 3",
   "language": "python",
   "name": "python3"
  },
  "language_info": {
   "codemirror_mode": {
    "name": "ipython",
    "version": 3
   },
   "file_extension": ".py",
   "mimetype": "text/x-python",
   "name": "python",
   "nbconvert_exporter": "python",
   "pygments_lexer": "ipython3",
   "version": "3.6.3"
  }
 },
 "nbformat": 4,
 "nbformat_minor": 2
}
