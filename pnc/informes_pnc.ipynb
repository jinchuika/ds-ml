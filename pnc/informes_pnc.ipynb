{
 "cells": [
  {
   "cell_type": "markdown",
   "metadata": {},
   "source": [
    "# Data analysis of police reports\n",
    "\n",
    "Based on the dataset of police reports from 2016, this model aims to predict the time and days with highets chance of police reports."
   ]
  },
  {
   "cell_type": "markdown",
   "metadata": {},
   "source": [
    "Scikit-learn will be used to create the prediction models; `pandas` and `numpy` will be used for data manipulation and `matplotlib` for visualization."
   ]
  },
  {
   "cell_type": "code",
   "execution_count": 1,
   "metadata": {},
   "outputs": [],
   "source": [
    "# Dependencias\n",
    "import pandas as pd\n",
    "import numpy as np\n",
    "import matplotlib.pyplot as plt\n",
    "from matplotlib import gridspec\n",
    "from sklearn import (\n",
    "    svm, linear_model, neighbors, discriminant_analysis,\n",
    "    neural_network, naive_bayes, tree\n",
    ")\n",
    "from sklearn.metrics import accuracy_score\n",
    "from sklearn.model_selection import train_test_split"
   ]
  },
  {
   "cell_type": "code",
   "execution_count": 2,
   "metadata": {},
   "outputs": [],
   "source": [
    "def split_objective(input_df, dims):\n",
    "    features = input_df.loc[:, input_df.columns != list(dims.keys())[-1]]\n",
    "    objective = input_df[input_df.columns[-1:]]\n",
    "    return (features, objective)"
   ]
  },
  {
   "cell_type": "markdown",
   "metadata": {},
   "source": [
    "We load the victims' dataset into a `DataFrame` and process the date."
   ]
  },
  {
   "cell_type": "code",
   "execution_count": 4,
   "metadata": {
    "scrolled": false
   },
   "outputs": [
    {
     "data": {
      "text/html": [
       "<div>\n",
       "<style scoped>\n",
       "    .dataframe tbody tr th:only-of-type {\n",
       "        vertical-align: middle;\n",
       "    }\n",
       "\n",
       "    .dataframe tbody tr th {\n",
       "        vertical-align: top;\n",
       "    }\n",
       "\n",
       "    .dataframe thead th {\n",
       "        text-align: right;\n",
       "    }\n",
       "</style>\n",
       "<table border=\"1\" class=\"dataframe\">\n",
       "  <thead>\n",
       "    <tr style=\"text-align: right;\">\n",
       "      <th></th>\n",
       "      <th>núm_corre_f</th>\n",
       "      <th>núm_corre</th>\n",
       "      <th>año_ocu</th>\n",
       "      <th>mes_ocu</th>\n",
       "      <th>día_ocu</th>\n",
       "      <th>día_sem_ocu</th>\n",
       "      <th>hora_ocu</th>\n",
       "      <th>g_hora</th>\n",
       "      <th>g_hora_mañ.tar.noch</th>\n",
       "      <th>área_geo_ocu</th>\n",
       "      <th>...</th>\n",
       "      <th>zona_ocu</th>\n",
       "      <th>sexo_per</th>\n",
       "      <th>edad_per</th>\n",
       "      <th>g_edad_60ymás</th>\n",
       "      <th>g_edad_80ymás</th>\n",
       "      <th>edad_quinquenales</th>\n",
       "      <th>menor_mayor</th>\n",
       "      <th>delito_com</th>\n",
       "      <th>g_delitos</th>\n",
       "      <th>fecha</th>\n",
       "    </tr>\n",
       "  </thead>\n",
       "  <tbody>\n",
       "    <tr>\n",
       "      <th>0</th>\n",
       "      <td>1</td>\n",
       "      <td>1</td>\n",
       "      <td>2016</td>\n",
       "      <td>1</td>\n",
       "      <td>1</td>\n",
       "      <td>5</td>\n",
       "      <td>0</td>\n",
       "      <td>1</td>\n",
       "      <td>1</td>\n",
       "      <td>1</td>\n",
       "      <td>...</td>\n",
       "      <td>12</td>\n",
       "      <td>1</td>\n",
       "      <td>56</td>\n",
       "      <td>10</td>\n",
       "      <td>10</td>\n",
       "      <td>12</td>\n",
       "      <td>1</td>\n",
       "      <td>69</td>\n",
       "      <td>3</td>\n",
       "      <td>2016-01-01</td>\n",
       "    </tr>\n",
       "    <tr>\n",
       "      <th>1</th>\n",
       "      <td>2</td>\n",
       "      <td>2</td>\n",
       "      <td>2016</td>\n",
       "      <td>1</td>\n",
       "      <td>1</td>\n",
       "      <td>5</td>\n",
       "      <td>8</td>\n",
       "      <td>2</td>\n",
       "      <td>1</td>\n",
       "      <td>2</td>\n",
       "      <td>...</td>\n",
       "      <td>99</td>\n",
       "      <td>1</td>\n",
       "      <td>42</td>\n",
       "      <td>7</td>\n",
       "      <td>7</td>\n",
       "      <td>9</td>\n",
       "      <td>1</td>\n",
       "      <td>69</td>\n",
       "      <td>3</td>\n",
       "      <td>2016-01-01</td>\n",
       "    </tr>\n",
       "    <tr>\n",
       "      <th>2</th>\n",
       "      <td>3</td>\n",
       "      <td>3</td>\n",
       "      <td>2016</td>\n",
       "      <td>1</td>\n",
       "      <td>1</td>\n",
       "      <td>5</td>\n",
       "      <td>8</td>\n",
       "      <td>2</td>\n",
       "      <td>1</td>\n",
       "      <td>2</td>\n",
       "      <td>...</td>\n",
       "      <td>99</td>\n",
       "      <td>1</td>\n",
       "      <td>38</td>\n",
       "      <td>6</td>\n",
       "      <td>6</td>\n",
       "      <td>8</td>\n",
       "      <td>1</td>\n",
       "      <td>69</td>\n",
       "      <td>3</td>\n",
       "      <td>2016-01-01</td>\n",
       "    </tr>\n",
       "    <tr>\n",
       "      <th>3</th>\n",
       "      <td>4</td>\n",
       "      <td>4</td>\n",
       "      <td>2016</td>\n",
       "      <td>1</td>\n",
       "      <td>2</td>\n",
       "      <td>6</td>\n",
       "      <td>15</td>\n",
       "      <td>3</td>\n",
       "      <td>2</td>\n",
       "      <td>2</td>\n",
       "      <td>...</td>\n",
       "      <td>99</td>\n",
       "      <td>1</td>\n",
       "      <td>69</td>\n",
       "      <td>11</td>\n",
       "      <td>12</td>\n",
       "      <td>14</td>\n",
       "      <td>1</td>\n",
       "      <td>69</td>\n",
       "      <td>3</td>\n",
       "      <td>2016-01-02</td>\n",
       "    </tr>\n",
       "    <tr>\n",
       "      <th>4</th>\n",
       "      <td>5</td>\n",
       "      <td>5</td>\n",
       "      <td>2016</td>\n",
       "      <td>1</td>\n",
       "      <td>2</td>\n",
       "      <td>6</td>\n",
       "      <td>19</td>\n",
       "      <td>4</td>\n",
       "      <td>3</td>\n",
       "      <td>1</td>\n",
       "      <td>...</td>\n",
       "      <td>6</td>\n",
       "      <td>1</td>\n",
       "      <td>27</td>\n",
       "      <td>4</td>\n",
       "      <td>4</td>\n",
       "      <td>6</td>\n",
       "      <td>1</td>\n",
       "      <td>69</td>\n",
       "      <td>3</td>\n",
       "      <td>2016-01-02</td>\n",
       "    </tr>\n",
       "  </tbody>\n",
       "</table>\n",
       "<p>5 rows × 22 columns</p>\n",
       "</div>"
      ],
      "text/plain": [
       "   núm_corre_f  núm_corre  año_ocu  mes_ocu  día_ocu  día_sem_ocu  hora_ocu  \\\n",
       "0            1          1     2016        1        1            5         0   \n",
       "1            2          2     2016        1        1            5         8   \n",
       "2            3          3     2016        1        1            5         8   \n",
       "3            4          4     2016        1        2            6        15   \n",
       "4            5          5     2016        1        2            6        19   \n",
       "\n",
       "   g_hora  g_hora_mañ.tar.noch  área_geo_ocu    ...      zona_ocu  sexo_per  \\\n",
       "0       1                    1             1    ...            12         1   \n",
       "1       2                    1             2    ...            99         1   \n",
       "2       2                    1             2    ...            99         1   \n",
       "3       3                    2             2    ...            99         1   \n",
       "4       4                    3             1    ...             6         1   \n",
       "\n",
       "   edad_per  g_edad_60ymás  g_edad_80ymás  edad_quinquenales  menor_mayor  \\\n",
       "0        56             10             10                 12            1   \n",
       "1        42              7              7                  9            1   \n",
       "2        38              6              6                  8            1   \n",
       "3        69             11             12                 14            1   \n",
       "4        27              4              4                  6            1   \n",
       "\n",
       "   delito_com  g_delitos      fecha  \n",
       "0          69          3 2016-01-01  \n",
       "1          69          3 2016-01-01  \n",
       "2          69          3 2016-01-01  \n",
       "3          69          3 2016-01-02  \n",
       "4          69          3 2016-01-02  \n",
       "\n",
       "[5 rows x 22 columns]"
      ]
     },
     "execution_count": 4,
     "metadata": {},
     "output_type": "execute_result"
    }
   ],
   "source": [
    "vic_df = pd.read_excel('pnc_victimas.xlsx')\n",
    "vic_df['fecha'] = pd.to_datetime(\n",
    "    dict(year=vic_df['año_ocu'], month=vic_df['mes_ocu'],day=vic_df['día_ocu']), \n",
    "    format='%Y-%m-%d')\n",
    "\n",
    "vic_df = vic_df[vic_df.hora_ocu != 99]\n",
    "vic_df.head()"
   ]
  },
  {
   "cell_type": "markdown",
   "metadata": {},
   "source": [
    "We aim to create a new `DataFrame` with the ammount of police reports by month, day, hour of the day and municipality."
   ]
  },
  {
   "cell_type": "code",
   "execution_count": 5,
   "metadata": {},
   "outputs": [
    {
     "name": "stdout",
     "output_type": "stream",
     "text": [
      "    ano  mes  dia  hora  muni  total\n",
      "0  2016    1    1     0   101      1\n",
      "1  2016    1    1     0   108      2\n",
      "2  2016    1    1     0   110      2\n",
      "3  2016    1    1     0   501      1\n",
      "4  2016    1    1     0  1201      1\n",
      "(30914, 6)\n"
     ]
    }
   ],
   "source": [
    "grupos = vic_df.groupby(by=('año_ocu', 'mes_ocu', 'día_ocu', 'hora_ocu', 'mupio_ocu'))\n",
    "convertido = pd.DataFrame({'total': grupos.size()}).reset_index()\n",
    "convertido.columns = ['ano', 'mes', 'dia', 'hora', 'muni', 'total']\n",
    "convertido.sort_values(['ano', 'mes', 'dia', 'hora'])\n",
    "\n",
    "print(convertido.head())\n",
    "print(convertido.shape)\n",
    "\n",
    "# Export the new dataframe\n",
    "convertido.to_csv('convertido.csv', index=False)"
   ]
  },
  {
   "cell_type": "markdown",
   "metadata": {},
   "source": [
    "## Linear model by time of the day\n",
    "\n",
    "This model aims to find the hours with highest amount of reports."
   ]
  },
  {
   "cell_type": "code",
   "execution_count": 6,
   "metadata": {},
   "outputs": [
    {
     "data": {
      "image/png": "[encoded data removed]",
      "text/plain": [
       "<matplotlib.figure.Figure at 0x7fd6a8f419b0>"
      ]
     },
     "metadata": {},
     "output_type": "display_data"
    }
   ],
   "source": [
    "grupos_hora = convertido.groupby(by='hora')\n",
    "convertido_hora = pd.DataFrame({'total': grupos_hora.size()}).reset_index()\n",
    "convertido_hora.to_csv('horas.csv', index=False)\n",
    "\n",
    "lr = linear_model.LinearRegression()\n",
    "lr.fit(convertido_hora[['hora']], convertido_hora[['total']])\n",
    "convertido_hora['predict'] = lr.predict(convertido_hora[['hora']])\n",
    "\n",
    "plt.scatter(convertido_hora.hora, convertido_hora.total)\n",
    "plt.plot(convertido_hora.hora, convertido_hora.predict, lw=2, label='Modelo lineal')\n",
    "plt.xlabel('Hora')\n",
    "plt.ylabel('Víctimas')\n",
    "plt.xticks(np.arange(len(convertido_hora[['hora']])))\n",
    "plt.legend()\n",
    "plt.show()"
   ]
  },
  {
   "cell_type": "markdown",
   "metadata": {},
   "source": [
    "## Busiest date and times\n",
    "\n",
    "Now, let's find out what days and times have the highest amount of police reports."
   ]
  },
  {
   "cell_type": "code",
   "execution_count": 10,
   "metadata": {},
   "outputs": [
    {
     "data": {
      "image/png": "[encoded data removed]",
      "text/plain": [
       "<matplotlib.figure.Figure at 0x7fd6a0704198>"
      ]
     },
     "metadata": {},
     "output_type": "display_data"
    }
   ],
   "source": [
    "df_limpio = vic_df.groupby(['día_sem_ocu', 'hora_ocu']).size().unstack('hora_ocu', fill_value=0)\n",
    "\n",
    "# print(df_limpio.head())\n",
    "\n",
    "fig, ax = plt.subplots(figsize=(15,10))\n",
    "\n",
    "im = ax.imshow(df_limpio, cmap='Blues')\n",
    "fig.colorbar(im, ax=ax)\n",
    "xticks = list(range(0, 24))\n",
    "yticks = ['Lunes', 'Mar', 'Mie', 'Jue', 'Vie', 'Sáb', 'Dom']\n",
    "ax.set_xticks(range(len(xticks)))\n",
    "ax.set_yticks(range(len(yticks)))\n",
    "\n",
    "ax.set_xticklabels(xticks, rotation=90)\n",
    "ax.set_yticklabels(yticks, rotation=0)\n",
    "\n",
    "#plt.pcolor(df_limpio)\n",
    "plt.show()"
   ]
  }
 ],
 "metadata": {
  "kernelspec": {
   "display_name": "Python 3",
   "language": "python",
   "name": "python3"
  },
  "language_info": {
   "codemirror_mode": {
    "name": "ipython",
    "version": 3
   },
   "file_extension": ".py",
   "mimetype": "text/x-python",
   "name": "python",
   "nbconvert_exporter": "python",
   "pygments_lexer": "ipython3",
   "version": "3.6.4"
  }
 },
 "nbformat": 4,
 "nbformat_minor": 2
}
