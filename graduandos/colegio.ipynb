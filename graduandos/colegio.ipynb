{
 "cells": [
  {
   "cell_type": "markdown",
   "metadata": {},
   "source": [
    "# Analysis of Guatemala's 2016 math performance results by school\n",
    "\n",
    "Annually, the Ministry of Education of Guatemala (MINEDUC) evaluates the academic performance of Senior highschool students. The evaluation is focused in two areas: reading comprehension and math skills. The evaluation is mandatory for all the senior students across the country.\n",
    "\n",
    "Results tend to be specially low in the math. Based on [recently published results](http://www.mineduc.gob.gt/digeduca/documents/investigaciones/2016/Ense%C3%B1ando_mate.pdf), about 9% of the population reach the minimun required level according to the National Curriculum (CNB).\n",
    "\n",
    "This is a step-by-step analysis of the 2016 results."
   ]
  },
  {
   "cell_type": "markdown",
   "metadata": {},
   "source": [
    "[The dataset](http://www.mineduc.gob.gt/digeduca/apps/Bases_de_Datos_Evaluaciones/navegador/2016/documents/GRADUANDOS%202016.xlsx) contains almost 150k test records. More data about every student is also recorded as part of a survey taken alongside the test; so it could be helpful in the future.\n",
    "\n",
    "The results are measured by two variables:\n",
    "\n",
    "- `performance_level [1, 4]`\n",
    "- `achievement_level [0-1]`, where `achievement_level = 0` for `performance_level = 1, 2` and `achievement_level = 1` for `performance_level = 3, 4`."
   ]
  },
  {
   "cell_type": "code",
   "execution_count": 19,
   "metadata": {},
   "outputs": [],
   "source": [
    "# Import libraries for exploratory analysis\n",
    "import pandas as pd\n",
    "import matplotlib.pyplot as plt\n",
    "import matplotlib.mlab as mlab\n",
    "import numpy as np"
   ]
  },
  {
   "cell_type": "code",
   "execution_count": 2,
   "metadata": {},
   "outputs": [
    {
     "name": "stdout",
     "output_type": "stream",
     "text": [
      "# of columns: 108\n",
      "# of records: 149815\n"
     ]
    }
   ],
   "source": [
    "df = pd.read_csv('gr2016.csv')\n",
    "print('# of columns: {}'.format(df.shape[1]))\n",
    "print('# of records: {}'.format(df.shape[0]))"
   ]
  },
  {
   "cell_type": "markdown",
   "metadata": {},
   "source": [
    "## Assessing performance by school\n",
    "\n",
    "In later years, some schools have used the results to brag about and advertise their performance as \"top 1%\" or \"top 5%\". Given that the base achievement record is only about 9%, we're trying to know how good the perfomance should be in order to be \"Top 5%\", based on the `achievement_level`."
   ]
  },
  {
   "cell_type": "markdown",
   "metadata": {},
   "source": [
    "Let's begin by grouping all the students by school. In this step, our goal is to have a data frame of schools with the amount of students that have 0 or 1 in the `achievement_level` variable. The schools will be identified by the unique code from the MINEDUC. In theory, every school should appear twice, with the total of people with `achievement_level=0` and `achievement_level=1`. In practice, there'll be some schools with either `0` or `1` missing."
   ]
  },
  {
   "cell_type": "code",
   "execution_count": 3,
   "metadata": {},
   "outputs": [
    {
     "data": {
      "text/html": [
       "<div>\n",
       "<style scoped>\n",
       "    .dataframe tbody tr th:only-of-type {\n",
       "        vertical-align: middle;\n",
       "    }\n",
       "\n",
       "    .dataframe tbody tr th {\n",
       "        vertical-align: top;\n",
       "    }\n",
       "\n",
       "    .dataframe thead th {\n",
       "        text-align: right;\n",
       "    }\n",
       "</style>\n",
       "<table border=\"1\" class=\"dataframe\">\n",
       "  <thead>\n",
       "    <tr style=\"text-align: right;\">\n",
       "      <th></th>\n",
       "      <th>Cod_Estable</th>\n",
       "      <th>Logro_Mate</th>\n",
       "      <th>total</th>\n",
       "    </tr>\n",
       "  </thead>\n",
       "  <tbody>\n",
       "    <tr>\n",
       "      <th>0</th>\n",
       "      <td>00-01-0158-46</td>\n",
       "      <td>0</td>\n",
       "      <td>20</td>\n",
       "    </tr>\n",
       "    <tr>\n",
       "      <th>1</th>\n",
       "      <td>00-01-0173-46</td>\n",
       "      <td>0</td>\n",
       "      <td>75</td>\n",
       "    </tr>\n",
       "    <tr>\n",
       "      <th>2</th>\n",
       "      <td>00-01-0173-46</td>\n",
       "      <td>1</td>\n",
       "      <td>5</td>\n",
       "    </tr>\n",
       "    <tr>\n",
       "      <th>3</th>\n",
       "      <td>00-01-0174-46</td>\n",
       "      <td>0</td>\n",
       "      <td>181</td>\n",
       "    </tr>\n",
       "    <tr>\n",
       "      <th>4</th>\n",
       "      <td>00-01-0174-46</td>\n",
       "      <td>1</td>\n",
       "      <td>10</td>\n",
       "    </tr>\n",
       "  </tbody>\n",
       "</table>\n",
       "</div>"
      ],
      "text/plain": [
       "     Cod_Estable  Logro_Mate  total\n",
       "0  00-01-0158-46           0     20\n",
       "1  00-01-0173-46           0     75\n",
       "2  00-01-0173-46           1      5\n",
       "3  00-01-0174-46           0    181\n",
       "4  00-01-0174-46           1     10"
      ]
     },
     "execution_count": 3,
     "metadata": {},
     "output_type": "execute_result"
    }
   ],
   "source": [
    "# Make groups of records by school's code and approved/reproved ammounts\n",
    "grupos = df.groupby(['Cod_Estable', 'Logro_Mate'])\n",
    "# A new dataframe counting how many tuples each group has\n",
    "convertido = pd.DataFrame({'total': grupos.size()}).reset_index()\n",
    "convertido.head()"
   ]
  },
  {
   "cell_type": "markdown",
   "metadata": {},
   "source": [
    "Now we'll create a new data frame where every record is a school with the ammount of students approving, reproving and the percentage of `achievement_level=1`."
   ]
  },
  {
   "cell_type": "code",
   "execution_count": 4,
   "metadata": {},
   "outputs": [
    {
     "data": {
      "text/html": [
       "<div>\n",
       "<style scoped>\n",
       "    .dataframe tbody tr th:only-of-type {\n",
       "        vertical-align: middle;\n",
       "    }\n",
       "\n",
       "    .dataframe tbody tr th {\n",
       "        vertical-align: top;\n",
       "    }\n",
       "\n",
       "    .dataframe thead th {\n",
       "        text-align: right;\n",
       "    }\n",
       "</style>\n",
       "<table border=\"1\" class=\"dataframe\">\n",
       "  <thead>\n",
       "    <tr style=\"text-align: right;\">\n",
       "      <th></th>\n",
       "      <th>udi</th>\n",
       "      <th>pierde</th>\n",
       "      <th>gana</th>\n",
       "      <th>porcentaje</th>\n",
       "    </tr>\n",
       "  </thead>\n",
       "  <tbody>\n",
       "    <tr>\n",
       "      <th>0</th>\n",
       "      <td>00-01-0158-46</td>\n",
       "      <td>20.0</td>\n",
       "      <td>0.0</td>\n",
       "      <td>0.000000</td>\n",
       "    </tr>\n",
       "    <tr>\n",
       "      <th>1</th>\n",
       "      <td>00-01-0173-46</td>\n",
       "      <td>75.0</td>\n",
       "      <td>5.0</td>\n",
       "      <td>6.250000</td>\n",
       "    </tr>\n",
       "    <tr>\n",
       "      <th>2</th>\n",
       "      <td>00-01-0174-46</td>\n",
       "      <td>181.0</td>\n",
       "      <td>10.0</td>\n",
       "      <td>5.235602</td>\n",
       "    </tr>\n",
       "    <tr>\n",
       "      <th>3</th>\n",
       "      <td>00-01-0176-46</td>\n",
       "      <td>104.0</td>\n",
       "      <td>41.0</td>\n",
       "      <td>28.275862</td>\n",
       "    </tr>\n",
       "    <tr>\n",
       "      <th>4</th>\n",
       "      <td>00-01-0178-46</td>\n",
       "      <td>24.0</td>\n",
       "      <td>1.0</td>\n",
       "      <td>4.000000</td>\n",
       "    </tr>\n",
       "  </tbody>\n",
       "</table>\n",
       "</div>"
      ],
      "text/plain": [
       "             udi  pierde  gana  porcentaje\n",
       "0  00-01-0158-46    20.0   0.0    0.000000\n",
       "1  00-01-0173-46    75.0   5.0    6.250000\n",
       "2  00-01-0174-46   181.0  10.0    5.235602\n",
       "3  00-01-0176-46   104.0  41.0   28.275862\n",
       "4  00-01-0178-46    24.0   1.0    4.000000"
      ]
     },
     "execution_count": 4,
     "metadata": {},
     "output_type": "execute_result"
    }
   ],
   "source": [
    "# Create a pivot table grouping each repeter value in the 'Cod_Estable' column\n",
    "df_final = convertido.pivot(index='Cod_Estable', columns='Logro_Mate', values='total').reset_index()\n",
    "# Fill NaN values with 0 (for those records with no approved/reproved value)\n",
    "df_final.fillna(value=0, inplace=True)\n",
    "# Renaming the columns\n",
    "df_final.columns = ['udi', 'pierde', 'gana']\n",
    "# Compute the percentaje of approved students by school\n",
    "df_final['porcentaje'] = df_final['gana'] / (df_final['gana'] + df_final['pierde']) * 100\n",
    "df_final.head()"
   ]
  },
  {
   "cell_type": "markdown",
   "metadata": {},
   "source": [
    "### Exploratory analysis\n",
    "Let's make a simple histogram of the distributions of schools by `percentage`."
   ]
  },
  {
   "cell_type": "code",
   "execution_count": 5,
   "metadata": {
    "scrolled": true
   },
   "outputs": [
    {
     "data": {
      "image/png": "[encoded data removed]",
      "text/plain": [
       "<matplotlib.figure.Figure at 0x7f587824e630>"
      ]
     },
     "metadata": {},
     "output_type": "display_data"
    }
   ],
   "source": [
    "# Simple \n",
    "df_final['porcentaje'].hist()\n",
    "plt.show()"
   ]
  },
  {
   "cell_type": "markdown",
   "metadata": {},
   "source": [
    "As expected, most of the schools are between the first decile od the distribution. But just to have a clearer vision, let's see how it looks with a percentile distribution."
   ]
  },
  {
   "cell_type": "code",
   "execution_count": 6,
   "metadata": {},
   "outputs": [
    {
     "data": {
      "image/png": "[encoded data removed]",
      "text/plain": [
       "<matplotlib.figure.Figure at 0x7f584b3f06a0>"
      ]
     },
     "metadata": {},
     "output_type": "display_data"
    }
   ],
   "source": [
    "fig=plt.figure(figsize=(10, 4), dpi= 80, facecolor='w', edgecolor='k')\n",
    "# Modifiy the histogram to display 100 bins (aka percentiles)\n",
    "plt.hist(df_final['porcentaje'], bins=100)\n",
    "plt.show()"
   ]
  },
  {
   "cell_type": "code",
   "execution_count": 25,
   "metadata": {},
   "outputs": [
    {
     "data": {
      "image/png": "[encoded data removed]",
      "text/plain": [
       "<matplotlib.figure.Figure at 0x7f583d4d7e48>"
      ]
     },
     "metadata": {},
     "output_type": "display_data"
    }
   ],
   "source": [
    "mu = np.mean(df_final['porcentaje'])\n",
    "variance = np.var(df_final['porcentaje'])\n",
    "sigma = np.sqrt(variance)\n",
    "\n",
    "# Plot the normal distribution\n",
    "x = np.linspace(mu - 4 * sigma, mu + 4 * sigma, 100)\n",
    "plt.plot(x, mlab.normpdf(x, mu, sigma))\n",
    "\n",
    "# Plot the mean\n",
    "plt.axvline(x=mu)\n",
    "plt.show()"
   ]
  },
  {
   "cell_type": "markdown",
   "metadata": {},
   "source": [
    "Now, let's dive into the actual purpose of this section: finding the threshold of how high the percentage of approved students needs to be in order to achieve the \"X top\"."
   ]
  },
  {
   "cell_type": "code",
   "execution_count": 10,
   "metadata": {
    "scrolled": false
   },
   "outputs": [
    {
     "name": "stdout",
     "output_type": "stream",
     "text": [
      "Schools in that group: 199\n",
      "Percentage of approved students: 40.0\n"
     ]
    }
   ],
   "source": [
    "# Define the function that'll compute the threshold\n",
    "# Inputs will be the data frame and the expected percentage\n",
    "# Outpus will be:\n",
    "# - thresh: how many schools are located in that \"top X%\"\n",
    "# - percentage: the percentage needed in order to be in that group\n",
    "def encontrar_limite(df_input, porcentaje=50):\n",
    "    int_df = df_input.sort_values('porcentaje')\n",
    "    thresh = len(int_df[:int(len(int_df) / (100 / porcentaje))])\n",
    "    return thresh, int_df.tail(thresh).iloc[0]['porcentaje']\n",
    "\n",
    "# let's find out how many\n",
    "schools, percentage = encontrar_limite(df_final, 5)\n",
    "print('Schools in that group: {}'.format(schools))\n",
    "print('Percentage of approved students: {}'.format(percentage))"
   ]
  },
  {
   "cell_type": "markdown",
   "metadata": {},
   "source": [
    "Another interesting experiment is trying to find in which \"Top X%\" a school is."
   ]
  },
  {
   "cell_type": "code",
   "execution_count": 11,
   "metadata": {},
   "outputs": [
    {
     "name": "stdout",
     "output_type": "stream",
     "text": [
      "The school is in the 4.13 top percent\n"
     ]
    }
   ],
   "source": [
    "# This function will locate the school in the dataset\n",
    "def encontrar_pos(df_input, udi):\n",
    "    int_df = df_input.sort_values('porcentaje')\n",
    "    int_df.reset_index(inplace=True)\n",
    "    return 1 - int_df[int_df['udi'] == udi].index.tolist()[0] / len(int_df)\n",
    "\n",
    "top_percentage = encontrar_pos(df_final, '04-01-2870-46')\n",
    "print('The school is in the {} top percent'.format(round(top_percentage * 100, 2)))"
   ]
  },
  {
   "cell_type": "code",
   "execution_count": 135,
   "metadata": {},
   "outputs": [
    {
     "data": {
      "text/plain": [
       "672"
      ]
     },
     "execution_count": 135,
     "metadata": {},
     "output_type": "execute_result"
    }
   ],
   "source": [
    "por_grupos = df_final.groupby('porcentaje')\n",
    "len(por_grupos.groups)"
   ]
  }
 ],
 "metadata": {
  "kernelspec": {
   "display_name": "Python 3",
   "language": "python",
   "name": "python3"
  },
  "language_info": {
   "codemirror_mode": {
    "name": "ipython",
    "version": 3
   },
   "file_extension": ".py",
   "mimetype": "text/x-python",
   "name": "python",
   "nbconvert_exporter": "python",
   "pygments_lexer": "ipython3",
   "version": "3.6.3"
  }
 },
 "nbformat": 4,
 "nbformat_minor": 2
}
