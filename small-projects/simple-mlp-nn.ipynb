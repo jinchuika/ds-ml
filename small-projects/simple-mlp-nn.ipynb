{
 "cells": [
  {
   "cell_type": "markdown",
   "metadata": {},
   "source": [
    "# MLP regressor to find a math function\n",
    "\n",
    "This is a very simple testing of a [Multi-layer Perceptron Neural Network](https://en.wikipedia.org/wiki/Multilayer_perceptron). The objective is to teach an algorithm how to solve a function giving it just the values and results."
   ]
  },
  {
   "cell_type": "code",
   "execution_count": 1,
   "metadata": {
    "collapsed": true
   },
   "outputs": [],
   "source": [
    "import numpy as np\n",
    "import pandas as pd\n",
    "from sklearn import neural_network\n",
    "from sklearn import model_selection"
   ]
  },
  {
   "cell_type": "markdown",
   "metadata": {},
   "source": [
    "We will teach the computer how to solve the next function:\n",
    "\n",
    "$f(x, y, z) = x^{2} + yz$ ; where $0 <= x,y,z <= 9$\n",
    "\n",
    "without giving it the explicit function."
   ]
  },
  {
   "cell_type": "code",
   "execution_count": 2,
   "metadata": {
    "collapsed": true
   },
   "outputs": [],
   "source": [
    "# The function to be solved\n",
    "def complex_function(x, y, z):\n",
    "    return x + y * z"
   ]
  },
  {
   "cell_type": "markdown",
   "metadata": {},
   "source": [
    "This function will create a dataset with random input variables `[a, b, c]`. The values contained in each variable will only be on the ranges from 0-99. A result column `f` will be attached to the dataset. This function will be useful later to create a small dataset to check how the model performed."
   ]
  },
  {
   "cell_type": "code",
   "execution_count": 3,
   "metadata": {
    "collapsed": true
   },
   "outputs": [],
   "source": [
    "def create_dataset(df_size=100):\n",
    "    dataset = pd.DataFrame(\n",
    "        np.random.randint(9, size=(df_size, 3)),\n",
    "        columns=['a', 'b', 'c'])\n",
    "    dataset['f'] = dataset.apply(\n",
    "        lambda row: complex_function(row['a'], row['b'], row['c']),\n",
    "        axis=1)\n",
    "    return dataset"
   ]
  },
  {
   "cell_type": "markdown",
   "metadata": {},
   "source": [
    "We will create **two million samples**, 20% of which will be used for validation (so, *only* about 1.8 million samples will be used for training). The column `f` will store the result of the `complex_function`."
   ]
  },
  {
   "cell_type": "code",
   "execution_count": 4,
   "metadata": {},
   "outputs": [
    {
     "data": {
      "text/html": [
       "<div>\n",
       "<style>\n",
       "    .dataframe thead tr:only-child th {\n",
       "        text-align: right;\n",
       "    }\n",
       "\n",
       "    .dataframe thead th {\n",
       "        text-align: left;\n",
       "    }\n",
       "\n",
       "    .dataframe tbody tr th {\n",
       "        vertical-align: top;\n",
       "    }\n",
       "</style>\n",
       "<table border=\"1\" class=\"dataframe\">\n",
       "  <thead>\n",
       "    <tr style=\"text-align: right;\">\n",
       "      <th></th>\n",
       "      <th>a</th>\n",
       "      <th>b</th>\n",
       "      <th>c</th>\n",
       "      <th>f</th>\n",
       "    </tr>\n",
       "  </thead>\n",
       "  <tbody>\n",
       "    <tr>\n",
       "      <th>0</th>\n",
       "      <td>3</td>\n",
       "      <td>6</td>\n",
       "      <td>4</td>\n",
       "      <td>27</td>\n",
       "    </tr>\n",
       "    <tr>\n",
       "      <th>1</th>\n",
       "      <td>5</td>\n",
       "      <td>1</td>\n",
       "      <td>3</td>\n",
       "      <td>8</td>\n",
       "    </tr>\n",
       "    <tr>\n",
       "      <th>2</th>\n",
       "      <td>2</td>\n",
       "      <td>1</td>\n",
       "      <td>2</td>\n",
       "      <td>4</td>\n",
       "    </tr>\n",
       "    <tr>\n",
       "      <th>3</th>\n",
       "      <td>8</td>\n",
       "      <td>8</td>\n",
       "      <td>3</td>\n",
       "      <td>32</td>\n",
       "    </tr>\n",
       "    <tr>\n",
       "      <th>4</th>\n",
       "      <td>3</td>\n",
       "      <td>0</td>\n",
       "      <td>7</td>\n",
       "      <td>3</td>\n",
       "    </tr>\n",
       "  </tbody>\n",
       "</table>\n",
       "</div>"
      ],
      "text/plain": [
       "   a  b  c   f\n",
       "0  3  6  4  27\n",
       "1  5  1  3   8\n",
       "2  2  1  2   4\n",
       "3  8  8  3  32\n",
       "4  3  0  7   3"
      ]
     },
     "execution_count": 4,
     "metadata": {},
     "output_type": "execute_result"
    }
   ],
   "source": [
    "# Split the dataset for training and validation\n",
    "df = create_dataset(2000000)\n",
    "x_train, x_test, y_train, y_test = model_selection.train_test_split(\n",
    "    df[['a', 'b', 'c']],\n",
    "    df[['f']],\n",
    "    test_size=0.20)\n",
    "df.head()"
   ]
  },
  {
   "cell_type": "markdown",
   "metadata": {},
   "source": [
    "Let's create the actual model. The `MLPRegressor` model is a very simple feed forward network very useful for regression analysis. In this case, it has two hidden layer with nine and three inputs."
   ]
  },
  {
   "cell_type": "code",
   "execution_count": 5,
   "metadata": {},
   "outputs": [
    {
     "name": "stdout",
     "output_type": "stream",
     "text": [
      "Training...\n",
      "Training finished\n",
      "Predicting...\n",
      "Prediction finished\n",
      "Accuracy score: 0.9988890283277395\n"
     ]
    }
   ],
   "source": [
    "clf = neural_network.MLPRegressor(\n",
    "    solver='lbfgs',\n",
    "    alpha=1e-5,\n",
    "    hidden_layer_sizes=(9, 9),\n",
    "    verbose=True)\n",
    "\n",
    "print(\"Training...\")\n",
    "clf.fit(x_train.values, y_train.values.ravel())\n",
    "print(\"Training finished\")\n",
    "\n",
    "print(\"Predicting...\")\n",
    "pred = clf.predict(x_test.values)\n",
    "print(\"Prediction finished\")\n",
    "\n",
    "clf_score = clf.score(x_test, y_test)\n",
    "print(\"Accuracy score: {}\".format(clf_score))"
   ]
  },
  {
   "cell_type": "markdown",
   "metadata": {},
   "source": [
    "We have a very *acceptable* score ($99.888\\% $ accuracy score), so let's find out how it's behaving with a small number of new samples."
   ]
  },
  {
   "cell_type": "code",
   "execution_count": 8,
   "metadata": {},
   "outputs": [
    {
     "data": {
      "text/html": [
       "<div>\n",
       "<style>\n",
       "    .dataframe thead tr:only-child th {\n",
       "        text-align: right;\n",
       "    }\n",
       "\n",
       "    .dataframe thead th {\n",
       "        text-align: left;\n",
       "    }\n",
       "\n",
       "    .dataframe tbody tr th {\n",
       "        vertical-align: top;\n",
       "    }\n",
       "</style>\n",
       "<table border=\"1\" class=\"dataframe\">\n",
       "  <thead>\n",
       "    <tr style=\"text-align: right;\">\n",
       "      <th></th>\n",
       "      <th>a</th>\n",
       "      <th>b</th>\n",
       "      <th>c</th>\n",
       "      <th>f</th>\n",
       "      <th>predicted</th>\n",
       "      <th>diff</th>\n",
       "    </tr>\n",
       "  </thead>\n",
       "  <tbody>\n",
       "    <tr>\n",
       "      <th>0</th>\n",
       "      <td>3</td>\n",
       "      <td>4</td>\n",
       "      <td>1</td>\n",
       "      <td>7</td>\n",
       "      <td>7.296939</td>\n",
       "      <td>0.296939</td>\n",
       "    </tr>\n",
       "    <tr>\n",
       "      <th>1</th>\n",
       "      <td>8</td>\n",
       "      <td>2</td>\n",
       "      <td>6</td>\n",
       "      <td>20</td>\n",
       "      <td>20.463242</td>\n",
       "      <td>0.463242</td>\n",
       "    </tr>\n",
       "    <tr>\n",
       "      <th>2</th>\n",
       "      <td>3</td>\n",
       "      <td>4</td>\n",
       "      <td>1</td>\n",
       "      <td>7</td>\n",
       "      <td>7.296939</td>\n",
       "      <td>0.296939</td>\n",
       "    </tr>\n",
       "    <tr>\n",
       "      <th>3</th>\n",
       "      <td>7</td>\n",
       "      <td>5</td>\n",
       "      <td>8</td>\n",
       "      <td>47</td>\n",
       "      <td>46.298738</td>\n",
       "      <td>-0.701262</td>\n",
       "    </tr>\n",
       "    <tr>\n",
       "      <th>4</th>\n",
       "      <td>0</td>\n",
       "      <td>8</td>\n",
       "      <td>0</td>\n",
       "      <td>0</td>\n",
       "      <td>0.686814</td>\n",
       "      <td>0.686814</td>\n",
       "    </tr>\n",
       "    <tr>\n",
       "      <th>5</th>\n",
       "      <td>1</td>\n",
       "      <td>4</td>\n",
       "      <td>2</td>\n",
       "      <td>9</td>\n",
       "      <td>9.792165</td>\n",
       "      <td>0.792165</td>\n",
       "    </tr>\n",
       "    <tr>\n",
       "      <th>6</th>\n",
       "      <td>4</td>\n",
       "      <td>8</td>\n",
       "      <td>4</td>\n",
       "      <td>36</td>\n",
       "      <td>36.084938</td>\n",
       "      <td>0.084938</td>\n",
       "    </tr>\n",
       "    <tr>\n",
       "      <th>7</th>\n",
       "      <td>0</td>\n",
       "      <td>7</td>\n",
       "      <td>0</td>\n",
       "      <td>0</td>\n",
       "      <td>0.447795</td>\n",
       "      <td>0.447795</td>\n",
       "    </tr>\n",
       "    <tr>\n",
       "      <th>8</th>\n",
       "      <td>6</td>\n",
       "      <td>3</td>\n",
       "      <td>0</td>\n",
       "      <td>6</td>\n",
       "      <td>5.029361</td>\n",
       "      <td>-0.970639</td>\n",
       "    </tr>\n",
       "    <tr>\n",
       "      <th>9</th>\n",
       "      <td>0</td>\n",
       "      <td>1</td>\n",
       "      <td>8</td>\n",
       "      <td>8</td>\n",
       "      <td>7.425841</td>\n",
       "      <td>-0.574159</td>\n",
       "    </tr>\n",
       "  </tbody>\n",
       "</table>\n",
       "</div>"
      ],
      "text/plain": [
       "   a  b  c   f  predicted      diff\n",
       "0  3  4  1   7   7.296939  0.296939\n",
       "1  8  2  6  20  20.463242  0.463242\n",
       "2  3  4  1   7   7.296939  0.296939\n",
       "3  7  5  8  47  46.298738 -0.701262\n",
       "4  0  8  0   0   0.686814  0.686814\n",
       "5  1  4  2   9   9.792165  0.792165\n",
       "6  4  8  4  36  36.084938  0.084938\n",
       "7  0  7  0   0   0.447795  0.447795\n",
       "8  6  3  0   6   5.029361 -0.970639\n",
       "9  0  1  8   8   7.425841 -0.574159"
      ]
     },
     "execution_count": 8,
     "metadata": {},
     "output_type": "execute_result"
    }
   ],
   "source": [
    "validation_data = create_dataset(10)\n",
    "# Create a column with results taken from the neural net\n",
    "validation_data['predicted'] = np.array(clf.predict(validation_data[['a', 'b', 'c']].values))\n",
    "# Compute the difference between the predicted and actual results\n",
    "validation_data['diff'] = validation_data['predicted'] - validation_data['f']\n",
    "\n",
    "validation_data"
   ]
  },
  {
   "cell_type": "markdown",
   "metadata": {},
   "source": [
    "## Conclusion\n",
    "As you can see, we were able to achieve pretty much the same results as the original function. This demo didn't use *as many* samples and variaty of data as I would have liked. But you can change the `df_size` parameter to something like ten millions and the range of the numbers from [0, 9] to [0, 99] in order to achieve better results (note that the computational resources neede will be quite larger that the ones used to train this network)."
   ]
  }
 ],
 "metadata": {
  "kernelspec": {
   "display_name": "Python 3",
   "language": "python",
   "name": "python3"
  },
  "language_info": {
   "codemirror_mode": {
    "name": "ipython",
    "version": 3
   },
   "file_extension": ".py",
   "mimetype": "text/x-python",
   "name": "python",
   "nbconvert_exporter": "python",
   "pygments_lexer": "ipython3",
   "version": "3.6.3"
  }
 },
 "nbformat": 4,
 "nbformat_minor": 2
}
